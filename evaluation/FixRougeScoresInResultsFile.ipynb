{
 "cells": [
  {
   "cell_type": "code",
   "execution_count": 15,
   "metadata": {},
   "outputs": [],
   "source": [
    "import sys\n",
    "sys.path.append('.')\n",
    "import RougeEvaluator\n",
    "import json"
   ]
  },
  {
   "cell_type": "code",
   "execution_count": 34,
   "metadata": {},
   "outputs": [],
   "source": [
    "def loadResultsFile(resultsFilepath):\n",
    "    with open(resultsFilepath, 'r') as fIn:\n",
    "        data = json.load(fIn)\n",
    "    return data\n",
    "\n",
    "def writeToJsonFile(data, outFilepath):\n",
    "    with open(outFilepath, 'w') as fp:\n",
    "        json.dump(data, fp, indent=1)\n",
    "        #json.dump(data, fp, sort_keys=True, indent=4)"
   ]
  },
  {
   "cell_type": "code",
   "execution_count": 9,
   "metadata": {},
   "outputs": [
    {
     "name": "stderr",
     "output_type": "stream",
     "text": [
      "2020-05-19 14:19:04,855 [MainThread  ] [INFO ]  Writing summaries.\n",
      "2020-05-19 14:19:04,857 [MainThread  ] [INFO ]  Processing summaries. Saving system files to C:\\Users\\user\\AppData\\Local\\Temp\\tmpohcvebcr\\system and model files to C:\\Users\\user\\AppData\\Local\\Temp\\tmpohcvebcr\\model.\n",
      "2020-05-19 14:19:04,858 [MainThread  ] [INFO ]  Processing files in C:\\Users\\user\\AppData\\Local\\Temp\\tmp4_2jqxmr.\n",
      "2020-05-19 14:19:04,859 [MainThread  ] [INFO ]  Processing systemSummary.txt.\n",
      "2020-05-19 14:19:04,870 [MainThread  ] [INFO ]  Saved processed files to C:\\Users\\user\\AppData\\Local\\Temp\\tmpohcvebcr\\system.\n",
      "2020-05-19 14:19:04,871 [MainThread  ] [INFO ]  Processing files in ../data/DUC2006Clean/D0608/referenceSummaries.\n",
      "2020-05-19 14:19:04,873 [MainThread  ] [INFO ]  Processing D0608.M.250.H.D.\n",
      "2020-05-19 14:19:04,875 [MainThread  ] [INFO ]  Processing D0608.M.250.H.E.\n",
      "2020-05-19 14:19:04,877 [MainThread  ] [INFO ]  Processing D0608.M.250.H.H.\n",
      "2020-05-19 14:19:04,880 [MainThread  ] [INFO ]  Processing D0608.M.250.H.J.\n",
      "2020-05-19 14:19:04,883 [MainThread  ] [INFO ]  Saved processed files to C:\\Users\\user\\AppData\\Local\\Temp\\tmpohcvebcr\\model.\n",
      "2020-05-19 14:19:04,885 [MainThread  ] [INFO ]  Written ROUGE configuration to C:\\Users\\user\\AppData\\Local\\Temp\\tmpxd8z_rxv\\rouge_conf.xml\n",
      "2020-05-19 14:19:04,887 [MainThread  ] [INFO ]  Running ROUGE with command perl  C:\\Users\\user\\Google Drive\\School\\Thesis\\Summarization\\ExtractiveSystems\\qfse_shared\\ROUGE-1.5.5\\ROUGE-1.5.5.pl -e C:\\Users\\user\\Google Drive\\School\\Thesis\\Summarization\\ExtractiveSystems\\qfse_shared\\ROUGE-1.5.5\\data -c 95 -2 -1 -U -r 1000 -n 4 -w 1.2 -a -m C:\\Users\\user\\AppData\\Local\\Temp\\tmpxd8z_rxv\\rouge_conf.xml\n"
     ]
    }
   ],
   "source": [
    "text = 'The system was designed to reduce the dangers of small children in child seats near air bags. Hall said the six companies have refused to set up ''fitting stations,'' where parents can get expert advice on how to install child safety seats. The government announced new air bag standards Friday that seek to improve protection of children and small adults. The government announced new air bag standards Friday that seek to improve protection of children and small adults.'\n",
    "refSumDict = '../data/DUC2006Clean/D0608/referenceSummaries'\n",
    "\n",
    "results = RougeEvaluator.getRougeScores(text, refSumDict)"
   ]
  },
  {
   "cell_type": "code",
   "execution_count": 46,
   "metadata": {},
   "outputs": [
    {
     "name": "stderr",
     "output_type": "stream",
     "text": [
      "2020-05-21 10:16:53,543 [MainThread  ] [INFO ]  Writing summaries.\n",
      "2020-05-21 10:16:53,545 [MainThread  ] [INFO ]  Processing summaries. Saving system files to C:\\Users\\user\\AppData\\Local\\Temp\\tmp1ao94mo1\\system and model files to C:\\Users\\user\\AppData\\Local\\Temp\\tmp1ao94mo1\\model.\n",
      "2020-05-21 10:16:53,546 [MainThread  ] [INFO ]  Processing files in C:\\Users\\user\\AppData\\Local\\Temp\\tmpxj5a473w.\n",
      "2020-05-21 10:16:53,548 [MainThread  ] [INFO ]  Processing systemSummary.txt.\n",
      "2020-05-21 10:16:53,552 [MainThread  ] [INFO ]  Saved processed files to C:\\Users\\user\\AppData\\Local\\Temp\\tmp1ao94mo1\\system.\n",
      "2020-05-21 10:16:53,555 [MainThread  ] [INFO ]  Processing files in ../data/DUC2006Clean/D0631/referenceSummaries.\n",
      "2020-05-21 10:16:53,557 [MainThread  ] [INFO ]  Processing D0631.M.250.D.D.\n",
      "2020-05-21 10:16:53,560 [MainThread  ] [INFO ]  Processing D0631.M.250.D.G.\n",
      "2020-05-21 10:16:53,563 [MainThread  ] [INFO ]  Processing D0631.M.250.D.H.\n",
      "2020-05-21 10:16:53,567 [MainThread  ] [INFO ]  Processing D0631.M.250.D.I.\n",
      "2020-05-21 10:16:53,573 [MainThread  ] [INFO ]  Saved processed files to C:\\Users\\user\\AppData\\Local\\Temp\\tmp1ao94mo1\\model.\n",
      "2020-05-21 10:16:53,580 [MainThread  ] [INFO ]  Written ROUGE configuration to C:\\Users\\user\\AppData\\Local\\Temp\\tmpbyci29vg\\rouge_conf.xml\n",
      "2020-05-21 10:16:53,582 [MainThread  ] [INFO ]  Running ROUGE with command perl  C:\\Users\\user\\Google Drive\\School\\Thesis\\Summarization\\ExtractiveSystems\\qfse_shared\\ROUGE-1.5.5\\ROUGE-1.5.5.pl -e C:\\Users\\user\\Google Drive\\School\\Thesis\\Summarization\\ExtractiveSystems\\qfse_shared\\ROUGE-1.5.5\\data -c 95 -2 -1 -U -r 1000 -n 4 -w 1.2 -a -m C:\\Users\\user\\AppData\\Local\\Temp\\tmpbyci29vg\\rouge_conf.xml\n"
     ]
    },
    {
     "name": "stdout",
     "output_type": "stream",
     "text": [
      "session 1 of 153\n",
      "session 2 of 153\n",
      "session 3 of 153\n",
      "session 4 of 153\n",
      "session 5 of 153\n",
      "session 6 of 153\n",
      "session 7 of 153\n",
      "session 8 of 153\n",
      "session 9 of 153\n",
      "session 10 of 153\n",
      "session 11 of 153\n",
      "session 12 of 153\n",
      "session 13 of 153\n",
      "session 14 of 153\n",
      "session 15 of 153\n",
      "session 16 of 153\n",
      "session 17 of 153\n",
      "session 18 of 153\n",
      "session 19 of 153\n",
      "session 20 of 153\n",
      "session 21 of 153\n",
      "session 22 of 153\n",
      "session 23 of 153\n",
      "session 24 of 153\n",
      "session 25 of 153\n",
      "session 26 of 153\n",
      "session 27 of 153\n",
      "session 28 of 153\n",
      "session 29 of 153\n",
      "session 30 of 153\n",
      "session 31 of 153\n",
      "session 32 of 153\n",
      "session 33 of 153\n",
      "session 34 of 153\n",
      "session 35 of 153\n",
      "session 36 of 153\n",
      "session 37 of 153\n",
      "session 38 of 153\n",
      "session 39 of 153\n",
      "session 40 of 153\n",
      "session 41 of 153\n",
      "session 42 of 153\n",
      "session 43 of 153\n",
      "session 44 of 153\n",
      "session 45 of 153\n",
      "session 46 of 153\n",
      "session 47 of 153\n",
      "session 48 of 153\n",
      "session 49 of 153\n",
      "session 50 of 153\n",
      "session 51 of 153\n",
      "session 52 of 153\n",
      "session 53 of 153\n",
      "session 54 of 153\n",
      "session 55 of 153\n",
      "session 56 of 153\n",
      "session 57 of 153\n",
      "session 58 of 153\n",
      "session 59 of 153\n",
      "session 60 of 153\n"
     ]
    },
    {
     "name": "stderr",
     "output_type": "stream",
     "text": [
      "2020-05-21 10:16:54,203 [MainThread  ] [INFO ]  Writing summaries.\n",
      "2020-05-21 10:16:54,205 [MainThread  ] [INFO ]  Processing summaries. Saving system files to C:\\Users\\user\\AppData\\Local\\Temp\\tmpijdl0r5n\\system and model files to C:\\Users\\user\\AppData\\Local\\Temp\\tmpijdl0r5n\\model.\n",
      "2020-05-21 10:16:54,206 [MainThread  ] [INFO ]  Processing files in C:\\Users\\user\\AppData\\Local\\Temp\\tmpctqn0c5b.\n",
      "2020-05-21 10:16:54,207 [MainThread  ] [INFO ]  Processing systemSummary.txt.\n",
      "2020-05-21 10:16:54,210 [MainThread  ] [INFO ]  Saved processed files to C:\\Users\\user\\AppData\\Local\\Temp\\tmpijdl0r5n\\system.\n",
      "2020-05-21 10:16:54,211 [MainThread  ] [INFO ]  Processing files in ../data/DUC2006Clean/D0631/referenceSummaries.\n",
      "2020-05-21 10:16:54,212 [MainThread  ] [INFO ]  Processing D0631.M.250.D.D.\n",
      "2020-05-21 10:16:54,214 [MainThread  ] [INFO ]  Processing D0631.M.250.D.G.\n",
      "2020-05-21 10:16:54,217 [MainThread  ] [INFO ]  Processing D0631.M.250.D.H.\n",
      "2020-05-21 10:16:54,219 [MainThread  ] [INFO ]  Processing D0631.M.250.D.I.\n",
      "2020-05-21 10:16:54,225 [MainThread  ] [INFO ]  Saved processed files to C:\\Users\\user\\AppData\\Local\\Temp\\tmpijdl0r5n\\model.\n",
      "2020-05-21 10:16:54,228 [MainThread  ] [INFO ]  Written ROUGE configuration to C:\\Users\\user\\AppData\\Local\\Temp\\tmpev9itlmn\\rouge_conf.xml\n",
      "2020-05-21 10:16:54,229 [MainThread  ] [INFO ]  Running ROUGE with command perl  C:\\Users\\user\\Google Drive\\School\\Thesis\\Summarization\\ExtractiveSystems\\qfse_shared\\ROUGE-1.5.5\\ROUGE-1.5.5.pl -e C:\\Users\\user\\Google Drive\\School\\Thesis\\Summarization\\ExtractiveSystems\\qfse_shared\\ROUGE-1.5.5\\data -c 95 -2 -1 -U -r 1000 -n 4 -w 1.2 -a -m C:\\Users\\user\\AppData\\Local\\Temp\\tmpev9itlmn\\rouge_conf.xml\n"
     ]
    },
    {
     "name": "stdout",
     "output_type": "stream",
     "text": [
      "\titeration 0 in session 60/153\n"
     ]
    },
    {
     "name": "stderr",
     "output_type": "stream",
     "text": [
      "2020-05-21 10:16:55,011 [MainThread  ] [INFO ]  Writing summaries.\n",
      "2020-05-21 10:16:55,013 [MainThread  ] [INFO ]  Processing summaries. Saving system files to C:\\Users\\user\\AppData\\Local\\Temp\\tmpy81eh0iv\\system and model files to C:\\Users\\user\\AppData\\Local\\Temp\\tmpy81eh0iv\\model.\n",
      "2020-05-21 10:16:55,014 [MainThread  ] [INFO ]  Processing files in C:\\Users\\user\\AppData\\Local\\Temp\\tmphcifcpzn.\n",
      "2020-05-21 10:16:55,015 [MainThread  ] [INFO ]  Processing systemSummary.txt.\n",
      "2020-05-21 10:16:55,026 [MainThread  ] [INFO ]  Saved processed files to C:\\Users\\user\\AppData\\Local\\Temp\\tmpy81eh0iv\\system.\n",
      "2020-05-21 10:16:55,028 [MainThread  ] [INFO ]  Processing files in ../data/DUC2006Clean/D0631/referenceSummaries.\n",
      "2020-05-21 10:16:55,031 [MainThread  ] [INFO ]  Processing D0631.M.250.D.D.\n",
      "2020-05-21 10:16:55,033 [MainThread  ] [INFO ]  Processing D0631.M.250.D.G.\n",
      "2020-05-21 10:16:55,036 [MainThread  ] [INFO ]  Processing D0631.M.250.D.H.\n",
      "2020-05-21 10:16:55,038 [MainThread  ] [INFO ]  Processing D0631.M.250.D.I.\n",
      "2020-05-21 10:16:55,041 [MainThread  ] [INFO ]  Saved processed files to C:\\Users\\user\\AppData\\Local\\Temp\\tmpy81eh0iv\\model.\n",
      "2020-05-21 10:16:55,044 [MainThread  ] [INFO ]  Written ROUGE configuration to C:\\Users\\user\\AppData\\Local\\Temp\\tmpo50beheu\\rouge_conf.xml\n",
      "2020-05-21 10:16:55,045 [MainThread  ] [INFO ]  Running ROUGE with command perl  C:\\Users\\user\\Google Drive\\School\\Thesis\\Summarization\\ExtractiveSystems\\qfse_shared\\ROUGE-1.5.5\\ROUGE-1.5.5.pl -e C:\\Users\\user\\Google Drive\\School\\Thesis\\Summarization\\ExtractiveSystems\\qfse_shared\\ROUGE-1.5.5\\data -c 95 -2 -1 -U -r 1000 -n 4 -w 1.2 -a -m C:\\Users\\user\\AppData\\Local\\Temp\\tmpo50beheu\\rouge_conf.xml\n"
     ]
    },
    {
     "name": "stdout",
     "output_type": "stream",
     "text": [
      "\titeration 1 in session 60/153\n"
     ]
    },
    {
     "name": "stderr",
     "output_type": "stream",
     "text": [
      "2020-05-21 10:16:55,854 [MainThread  ] [INFO ]  Writing summaries.\n",
      "2020-05-21 10:16:55,856 [MainThread  ] [INFO ]  Processing summaries. Saving system files to C:\\Users\\user\\AppData\\Local\\Temp\\tmpp78qjt9n\\system and model files to C:\\Users\\user\\AppData\\Local\\Temp\\tmpp78qjt9n\\model.\n",
      "2020-05-21 10:16:55,857 [MainThread  ] [INFO ]  Processing files in C:\\Users\\user\\AppData\\Local\\Temp\\tmpykhyioku.\n",
      "2020-05-21 10:16:55,858 [MainThread  ] [INFO ]  Processing systemSummary.txt.\n",
      "2020-05-21 10:16:55,868 [MainThread  ] [INFO ]  Saved processed files to C:\\Users\\user\\AppData\\Local\\Temp\\tmpp78qjt9n\\system.\n",
      "2020-05-21 10:16:55,870 [MainThread  ] [INFO ]  Processing files in ../data/DUC2006Clean/D0631/referenceSummaries.\n",
      "2020-05-21 10:16:55,871 [MainThread  ] [INFO ]  Processing D0631.M.250.D.D.\n",
      "2020-05-21 10:16:55,874 [MainThread  ] [INFO ]  Processing D0631.M.250.D.G.\n",
      "2020-05-21 10:16:55,876 [MainThread  ] [INFO ]  Processing D0631.M.250.D.H.\n",
      "2020-05-21 10:16:55,878 [MainThread  ] [INFO ]  Processing D0631.M.250.D.I.\n",
      "2020-05-21 10:16:55,884 [MainThread  ] [INFO ]  Saved processed files to C:\\Users\\user\\AppData\\Local\\Temp\\tmpp78qjt9n\\model.\n",
      "2020-05-21 10:16:55,887 [MainThread  ] [INFO ]  Written ROUGE configuration to C:\\Users\\user\\AppData\\Local\\Temp\\tmp1wqz5x2g\\rouge_conf.xml\n",
      "2020-05-21 10:16:55,889 [MainThread  ] [INFO ]  Running ROUGE with command perl  C:\\Users\\user\\Google Drive\\School\\Thesis\\Summarization\\ExtractiveSystems\\qfse_shared\\ROUGE-1.5.5\\ROUGE-1.5.5.pl -e C:\\Users\\user\\Google Drive\\School\\Thesis\\Summarization\\ExtractiveSystems\\qfse_shared\\ROUGE-1.5.5\\data -c 95 -2 -1 -U -r 1000 -n 4 -w 1.2 -a -m C:\\Users\\user\\AppData\\Local\\Temp\\tmp1wqz5x2g\\rouge_conf.xml\n"
     ]
    },
    {
     "name": "stdout",
     "output_type": "stream",
     "text": [
      "\titeration 2 in session 60/153\n"
     ]
    },
    {
     "name": "stderr",
     "output_type": "stream",
     "text": [
      "2020-05-21 10:16:56,807 [MainThread  ] [INFO ]  Writing summaries.\n",
      "2020-05-21 10:16:56,807 [MainThread  ] [INFO ]  Processing summaries. Saving system files to C:\\Users\\user\\AppData\\Local\\Temp\\tmp0kr9gcx2\\system and model files to C:\\Users\\user\\AppData\\Local\\Temp\\tmp0kr9gcx2\\model.\n",
      "2020-05-21 10:16:56,807 [MainThread  ] [INFO ]  Processing files in C:\\Users\\user\\AppData\\Local\\Temp\\tmptc_86aow.\n",
      "2020-05-21 10:16:56,807 [MainThread  ] [INFO ]  Processing systemSummary.txt.\n",
      "2020-05-21 10:16:56,828 [MainThread  ] [INFO ]  Saved processed files to C:\\Users\\user\\AppData\\Local\\Temp\\tmp0kr9gcx2\\system.\n",
      "2020-05-21 10:16:56,830 [MainThread  ] [INFO ]  Processing files in ../data/DUC2006Clean/D0631/referenceSummaries.\n",
      "2020-05-21 10:16:56,831 [MainThread  ] [INFO ]  Processing D0631.M.250.D.D.\n",
      "2020-05-21 10:16:56,833 [MainThread  ] [INFO ]  Processing D0631.M.250.D.G.\n",
      "2020-05-21 10:16:56,836 [MainThread  ] [INFO ]  Processing D0631.M.250.D.H.\n",
      "2020-05-21 10:16:56,839 [MainThread  ] [INFO ]  Processing D0631.M.250.D.I.\n",
      "2020-05-21 10:16:56,849 [MainThread  ] [INFO ]  Saved processed files to C:\\Users\\user\\AppData\\Local\\Temp\\tmp0kr9gcx2\\model.\n",
      "2020-05-21 10:16:56,852 [MainThread  ] [INFO ]  Written ROUGE configuration to C:\\Users\\user\\AppData\\Local\\Temp\\tmptv2ckhx9\\rouge_conf.xml\n",
      "2020-05-21 10:16:56,854 [MainThread  ] [INFO ]  Running ROUGE with command perl  C:\\Users\\user\\Google Drive\\School\\Thesis\\Summarization\\ExtractiveSystems\\qfse_shared\\ROUGE-1.5.5\\ROUGE-1.5.5.pl -e C:\\Users\\user\\Google Drive\\School\\Thesis\\Summarization\\ExtractiveSystems\\qfse_shared\\ROUGE-1.5.5\\data -c 95 -2 -1 -U -r 1000 -n 4 -w 1.2 -a -m C:\\Users\\user\\AppData\\Local\\Temp\\tmptv2ckhx9\\rouge_conf.xml\n"
     ]
    },
    {
     "name": "stdout",
     "output_type": "stream",
     "text": [
      "\titeration 3 in session 60/153\n"
     ]
    },
    {
     "name": "stderr",
     "output_type": "stream",
     "text": [
      "2020-05-21 10:16:58,123 [MainThread  ] [INFO ]  Writing summaries.\n",
      "2020-05-21 10:16:58,123 [MainThread  ] [INFO ]  Processing summaries. Saving system files to C:\\Users\\user\\AppData\\Local\\Temp\\tmp4rb2t5bn\\system and model files to C:\\Users\\user\\AppData\\Local\\Temp\\tmp4rb2t5bn\\model.\n",
      "2020-05-21 10:16:58,136 [MainThread  ] [INFO ]  Processing files in C:\\Users\\user\\AppData\\Local\\Temp\\tmprwq4msgt.\n",
      "2020-05-21 10:16:58,137 [MainThread  ] [INFO ]  Processing systemSummary.txt.\n",
      "2020-05-21 10:16:58,145 [MainThread  ] [INFO ]  Saved processed files to C:\\Users\\user\\AppData\\Local\\Temp\\tmp4rb2t5bn\\system.\n",
      "2020-05-21 10:16:58,145 [MainThread  ] [INFO ]  Processing files in ../data/DUC2006Clean/D0631/referenceSummaries.\n",
      "2020-05-21 10:16:58,145 [MainThread  ] [INFO ]  Processing D0631.M.250.D.D.\n",
      "2020-05-21 10:16:58,151 [MainThread  ] [INFO ]  Processing D0631.M.250.D.G.\n",
      "2020-05-21 10:16:58,153 [MainThread  ] [INFO ]  Processing D0631.M.250.D.H.\n",
      "2020-05-21 10:16:58,155 [MainThread  ] [INFO ]  Processing D0631.M.250.D.I.\n",
      "2020-05-21 10:16:58,161 [MainThread  ] [INFO ]  Saved processed files to C:\\Users\\user\\AppData\\Local\\Temp\\tmp4rb2t5bn\\model.\n",
      "2020-05-21 10:16:58,164 [MainThread  ] [INFO ]  Written ROUGE configuration to C:\\Users\\user\\AppData\\Local\\Temp\\tmpip0_xo2z\\rouge_conf.xml\n",
      "2020-05-21 10:16:58,165 [MainThread  ] [INFO ]  Running ROUGE with command perl  C:\\Users\\user\\Google Drive\\School\\Thesis\\Summarization\\ExtractiveSystems\\qfse_shared\\ROUGE-1.5.5\\ROUGE-1.5.5.pl -e C:\\Users\\user\\Google Drive\\School\\Thesis\\Summarization\\ExtractiveSystems\\qfse_shared\\ROUGE-1.5.5\\data -c 95 -2 -1 -U -r 1000 -n 4 -w 1.2 -a -m C:\\Users\\user\\AppData\\Local\\Temp\\tmpip0_xo2z\\rouge_conf.xml\n"
     ]
    },
    {
     "name": "stdout",
     "output_type": "stream",
     "text": [
      "\titeration 4 in session 60/153\n"
     ]
    },
    {
     "name": "stderr",
     "output_type": "stream",
     "text": [
      "2020-05-21 10:16:59,373 [MainThread  ] [INFO ]  Writing summaries.\n",
      "2020-05-21 10:16:59,373 [MainThread  ] [INFO ]  Processing summaries. Saving system files to C:\\Users\\user\\AppData\\Local\\Temp\\tmpmaz5wjwp\\system and model files to C:\\Users\\user\\AppData\\Local\\Temp\\tmpmaz5wjwp\\model.\n",
      "2020-05-21 10:16:59,383 [MainThread  ] [INFO ]  Processing files in C:\\Users\\user\\AppData\\Local\\Temp\\tmpdmvq3tfe.\n",
      "2020-05-21 10:16:59,384 [MainThread  ] [INFO ]  Processing systemSummary.txt.\n",
      "2020-05-21 10:16:59,395 [MainThread  ] [INFO ]  Saved processed files to C:\\Users\\user\\AppData\\Local\\Temp\\tmpmaz5wjwp\\system.\n",
      "2020-05-21 10:16:59,397 [MainThread  ] [INFO ]  Processing files in ../data/DUC2006Clean/D0631/referenceSummaries.\n",
      "2020-05-21 10:16:59,398 [MainThread  ] [INFO ]  Processing D0631.M.250.D.D.\n",
      "2020-05-21 10:16:59,401 [MainThread  ] [INFO ]  Processing D0631.M.250.D.G.\n",
      "2020-05-21 10:16:59,403 [MainThread  ] [INFO ]  Processing D0631.M.250.D.H.\n",
      "2020-05-21 10:16:59,406 [MainThread  ] [INFO ]  Processing D0631.M.250.D.I.\n",
      "2020-05-21 10:16:59,409 [MainThread  ] [INFO ]  Saved processed files to C:\\Users\\user\\AppData\\Local\\Temp\\tmpmaz5wjwp\\model.\n",
      "2020-05-21 10:16:59,411 [MainThread  ] [INFO ]  Written ROUGE configuration to C:\\Users\\user\\AppData\\Local\\Temp\\tmpbvazp9_a\\rouge_conf.xml\n",
      "2020-05-21 10:16:59,412 [MainThread  ] [INFO ]  Running ROUGE with command perl  C:\\Users\\user\\Google Drive\\School\\Thesis\\Summarization\\ExtractiveSystems\\qfse_shared\\ROUGE-1.5.5\\ROUGE-1.5.5.pl -e C:\\Users\\user\\Google Drive\\School\\Thesis\\Summarization\\ExtractiveSystems\\qfse_shared\\ROUGE-1.5.5\\data -c 95 -2 -1 -U -r 1000 -n 4 -w 1.2 -a -m C:\\Users\\user\\AppData\\Local\\Temp\\tmpbvazp9_a\\rouge_conf.xml\n"
     ]
    },
    {
     "name": "stdout",
     "output_type": "stream",
     "text": [
      "\titeration 5 in session 60/153\n"
     ]
    },
    {
     "name": "stderr",
     "output_type": "stream",
     "text": [
      "2020-05-21 10:17:00,690 [MainThread  ] [INFO ]  Writing summaries.\n",
      "2020-05-21 10:17:00,692 [MainThread  ] [INFO ]  Processing summaries. Saving system files to C:\\Users\\user\\AppData\\Local\\Temp\\tmpbb0af7m3\\system and model files to C:\\Users\\user\\AppData\\Local\\Temp\\tmpbb0af7m3\\model.\n",
      "2020-05-21 10:17:00,693 [MainThread  ] [INFO ]  Processing files in C:\\Users\\user\\AppData\\Local\\Temp\\tmpxpqldpv8.\n",
      "2020-05-21 10:17:00,694 [MainThread  ] [INFO ]  Processing systemSummary.txt.\n",
      "2020-05-21 10:17:00,703 [MainThread  ] [INFO ]  Saved processed files to C:\\Users\\user\\AppData\\Local\\Temp\\tmpbb0af7m3\\system.\n",
      "2020-05-21 10:17:00,704 [MainThread  ] [INFO ]  Processing files in ../data/DUC2006Clean/D0631/referenceSummaries.\n",
      "2020-05-21 10:17:00,705 [MainThread  ] [INFO ]  Processing D0631.M.250.D.D.\n",
      "2020-05-21 10:17:00,707 [MainThread  ] [INFO ]  Processing D0631.M.250.D.G.\n",
      "2020-05-21 10:17:00,710 [MainThread  ] [INFO ]  Processing D0631.M.250.D.H.\n",
      "2020-05-21 10:17:00,712 [MainThread  ] [INFO ]  Processing D0631.M.250.D.I.\n",
      "2020-05-21 10:17:00,718 [MainThread  ] [INFO ]  Saved processed files to C:\\Users\\user\\AppData\\Local\\Temp\\tmpbb0af7m3\\model.\n",
      "2020-05-21 10:17:00,721 [MainThread  ] [INFO ]  Written ROUGE configuration to C:\\Users\\user\\AppData\\Local\\Temp\\tmpcxpy3pxl\\rouge_conf.xml\n",
      "2020-05-21 10:17:00,722 [MainThread  ] [INFO ]  Running ROUGE with command perl  C:\\Users\\user\\Google Drive\\School\\Thesis\\Summarization\\ExtractiveSystems\\qfse_shared\\ROUGE-1.5.5\\ROUGE-1.5.5.pl -e C:\\Users\\user\\Google Drive\\School\\Thesis\\Summarization\\ExtractiveSystems\\qfse_shared\\ROUGE-1.5.5\\data -c 95 -2 -1 -U -r 1000 -n 4 -w 1.2 -a -m C:\\Users\\user\\AppData\\Local\\Temp\\tmpcxpy3pxl\\rouge_conf.xml\n"
     ]
    },
    {
     "name": "stdout",
     "output_type": "stream",
     "text": [
      "\titeration 6 in session 60/153\n"
     ]
    },
    {
     "name": "stderr",
     "output_type": "stream",
     "text": [
      "2020-05-21 10:17:01,981 [MainThread  ] [INFO ]  Writing summaries.\n",
      "2020-05-21 10:17:01,983 [MainThread  ] [INFO ]  Processing summaries. Saving system files to C:\\Users\\user\\AppData\\Local\\Temp\\tmpawwoj2_9\\system and model files to C:\\Users\\user\\AppData\\Local\\Temp\\tmpawwoj2_9\\model.\n",
      "2020-05-21 10:17:01,984 [MainThread  ] [INFO ]  Processing files in C:\\Users\\user\\AppData\\Local\\Temp\\tmpd6dob0p7.\n",
      "2020-05-21 10:17:01,985 [MainThread  ] [INFO ]  Processing systemSummary.txt.\n",
      "2020-05-21 10:17:01,994 [MainThread  ] [INFO ]  Saved processed files to C:\\Users\\user\\AppData\\Local\\Temp\\tmpawwoj2_9\\system.\n",
      "2020-05-21 10:17:01,995 [MainThread  ] [INFO ]  Processing files in ../data/DUC2006Clean/D0631/referenceSummaries.\n",
      "2020-05-21 10:17:01,996 [MainThread  ] [INFO ]  Processing D0631.M.250.D.D.\n",
      "2020-05-21 10:17:01,998 [MainThread  ] [INFO ]  Processing D0631.M.250.D.G.\n",
      "2020-05-21 10:17:02,001 [MainThread  ] [INFO ]  Processing D0631.M.250.D.H.\n",
      "2020-05-21 10:17:02,004 [MainThread  ] [INFO ]  Processing D0631.M.250.D.I.\n",
      "2020-05-21 10:17:02,010 [MainThread  ] [INFO ]  Saved processed files to C:\\Users\\user\\AppData\\Local\\Temp\\tmpawwoj2_9\\model.\n",
      "2020-05-21 10:17:02,013 [MainThread  ] [INFO ]  Written ROUGE configuration to C:\\Users\\user\\AppData\\Local\\Temp\\tmpj0xknk8f\\rouge_conf.xml\n",
      "2020-05-21 10:17:02,014 [MainThread  ] [INFO ]  Running ROUGE with command perl  C:\\Users\\user\\Google Drive\\School\\Thesis\\Summarization\\ExtractiveSystems\\qfse_shared\\ROUGE-1.5.5\\ROUGE-1.5.5.pl -e C:\\Users\\user\\Google Drive\\School\\Thesis\\Summarization\\ExtractiveSystems\\qfse_shared\\ROUGE-1.5.5\\data -c 95 -2 -1 -U -r 1000 -n 4 -w 1.2 -a -m C:\\Users\\user\\AppData\\Local\\Temp\\tmpj0xknk8f\\rouge_conf.xml\n"
     ]
    },
    {
     "name": "stdout",
     "output_type": "stream",
     "text": [
      "\titeration 7 in session 60/153\n"
     ]
    },
    {
     "name": "stderr",
     "output_type": "stream",
     "text": [
      "2020-05-21 10:17:03,383 [MainThread  ] [INFO ]  Writing summaries.\n",
      "2020-05-21 10:17:03,383 [MainThread  ] [INFO ]  Processing summaries. Saving system files to C:\\Users\\user\\AppData\\Local\\Temp\\tmpx1sovy77\\system and model files to C:\\Users\\user\\AppData\\Local\\Temp\\tmpx1sovy77\\model.\n",
      "2020-05-21 10:17:03,383 [MainThread  ] [INFO ]  Processing files in C:\\Users\\user\\AppData\\Local\\Temp\\tmps0p8ramw.\n",
      "2020-05-21 10:17:03,396 [MainThread  ] [INFO ]  Processing systemSummary.txt.\n",
      "2020-05-21 10:17:03,404 [MainThread  ] [INFO ]  Saved processed files to C:\\Users\\user\\AppData\\Local\\Temp\\tmpx1sovy77\\system.\n",
      "2020-05-21 10:17:03,404 [MainThread  ] [INFO ]  Processing files in ../data/DUC2006Clean/D0631/referenceSummaries.\n",
      "2020-05-21 10:17:03,404 [MainThread  ] [INFO ]  Processing D0631.M.250.D.D.\n",
      "2020-05-21 10:17:03,410 [MainThread  ] [INFO ]  Processing D0631.M.250.D.G.\n",
      "2020-05-21 10:17:03,411 [MainThread  ] [INFO ]  Processing D0631.M.250.D.H.\n",
      "2020-05-21 10:17:03,413 [MainThread  ] [INFO ]  Processing D0631.M.250.D.I.\n",
      "2020-05-21 10:17:03,418 [MainThread  ] [INFO ]  Saved processed files to C:\\Users\\user\\AppData\\Local\\Temp\\tmpx1sovy77\\model.\n",
      "2020-05-21 10:17:03,418 [MainThread  ] [INFO ]  Written ROUGE configuration to C:\\Users\\user\\AppData\\Local\\Temp\\tmp6fhxbd4x\\rouge_conf.xml\n",
      "2020-05-21 10:17:03,418 [MainThread  ] [INFO ]  Running ROUGE with command perl  C:\\Users\\user\\Google Drive\\School\\Thesis\\Summarization\\ExtractiveSystems\\qfse_shared\\ROUGE-1.5.5\\ROUGE-1.5.5.pl -e C:\\Users\\user\\Google Drive\\School\\Thesis\\Summarization\\ExtractiveSystems\\qfse_shared\\ROUGE-1.5.5\\data -c 95 -2 -1 -U -r 1000 -n 4 -w 1.2 -a -m C:\\Users\\user\\AppData\\Local\\Temp\\tmp6fhxbd4x\\rouge_conf.xml\n"
     ]
    },
    {
     "name": "stdout",
     "output_type": "stream",
     "text": [
      "\titeration 8 in session 60/153\n",
      "\titeration 9 in session 60/153\n",
      "session 61 of 153\n",
      "session 62 of 153\n",
      "session 63 of 153\n",
      "session 64 of 153\n",
      "session 65 of 153\n",
      "session 66 of 153\n",
      "session 67 of 153\n",
      "session 68 of 153\n",
      "session 69 of 153\n",
      "session 70 of 153\n",
      "session 71 of 153\n",
      "session 72 of 153\n",
      "session 73 of 153\n",
      "session 74 of 153\n",
      "session 75 of 153\n",
      "session 76 of 153\n",
      "session 77 of 153\n",
      "session 78 of 153\n",
      "session 79 of 153\n",
      "session 80 of 153\n",
      "session 81 of 153\n",
      "session 82 of 153\n",
      "session 83 of 153\n",
      "session 84 of 153\n",
      "session 85 of 153\n",
      "session 86 of 153\n",
      "session 87 of 153\n",
      "session 88 of 153\n",
      "session 89 of 153\n",
      "session 90 of 153\n",
      "session 91 of 153\n",
      "session 92 of 153\n",
      "session 93 of 153\n",
      "session 94 of 153\n",
      "session 95 of 153\n",
      "session 96 of 153\n",
      "session 97 of 153\n",
      "session 98 of 153\n",
      "session 99 of 153\n",
      "session 100 of 153\n",
      "session 101 of 153\n",
      "session 102 of 153\n",
      "session 103 of 153\n",
      "session 104 of 153\n",
      "session 105 of 153\n",
      "session 106 of 153\n",
      "session 107 of 153\n",
      "session 108 of 153\n",
      "session 109 of 153\n",
      "session 110 of 153\n",
      "session 111 of 153\n",
      "session 112 of 153\n",
      "session 113 of 153\n",
      "session 114 of 153\n",
      "session 115 of 153\n",
      "session 116 of 153\n",
      "session 117 of 153\n",
      "session 118 of 153\n",
      "session 119 of 153\n",
      "session 120 of 153\n",
      "session 121 of 153\n",
      "session 122 of 153\n",
      "session 123 of 153\n",
      "session 124 of 153\n",
      "session 125 of 153\n",
      "session 126 of 153\n",
      "session 127 of 153\n",
      "session 128 of 153\n",
      "session 129 of 153\n",
      "session 130 of 153\n",
      "session 131 of 153\n",
      "session 132 of 153\n",
      "session 133 of 153\n",
      "session 134 of 153\n",
      "session 135 of 153\n",
      "session 136 of 153\n",
      "session 137 of 153\n",
      "session 138 of 153\n",
      "session 139 of 153\n",
      "session 140 of 153\n",
      "session 141 of 153\n",
      "session 142 of 153\n",
      "session 143 of 153\n",
      "session 144 of 153\n",
      "session 145 of 153\n",
      "session 146 of 153\n",
      "session 147 of 153\n",
      "session 148 of 153\n",
      "session 149 of 153\n",
      "session 150 of 153\n",
      "session 151 of 153\n",
      "session 152 of 153\n",
      "session 153 of 153\n"
     ]
    }
   ],
   "source": [
    "# if you just need to fix a new session added now, copy the new session from the results_table_clean_bad.json to the last results_table_clean_fixed.json file (and the sentences missing)\n",
    "# then run the fix on the previous results_table_clean_fixed.json file with ONLY_TOPICS and ONLY_WORKERS set.\n",
    "\n",
    "\n",
    "refSumFolderPath = '../data/DUC2006Clean/{}/referenceSummaries'\n",
    "\n",
    "resultsFilePath = '../MechanicalTurk/RealSessions/results_table_clean_fixed_.json'\n",
    "#resultsFilePath = '../MechanicalTurk/RealSessions/results_table_clean_bad.json'\n",
    "resultsFixedFilePath = '../MechanicalTurk/RealSessions/results_table_clean_fixed.json'\n",
    "\n",
    "ONLY_TOPICS = ['D0631'] # empty if all\n",
    "ONLY_WORKERS = ['AVBRJBJONL47I'] # empty if all\n",
    "\n",
    "data = loadResultsFile(resultsFilePath)\n",
    "sentences = data['sentences']\n",
    "numSessions = len(data['info'])\n",
    "\n",
    "for sessionIdx, session in enumerate(data['info']):\n",
    "    #if session[\"summType\"] == \"<class 'QFSE.SummarizerTextRankPlusLexical.SummarizerTextRankPlusLexical'>\" and session[\"topicId\"] == 'D0608':\n",
    "    topicId = session[\"topicId\"]\n",
    "    text = ''\n",
    "    workerId = session['workerId']\n",
    "    print('session {} of {}'.format(sessionIdx+1, numSessions))\n",
    "    if (len(ONLY_TOPICS) == 0 or topicId in ONLY_TOPICS) and (len(ONLY_WORKERS) == 0 or workerId in ONLY_WORKERS):\n",
    "        for iterationIdx, iteration in enumerate(session['summaries']):\n",
    "            text += ' ' + ' '.join([sentences[sentId] for sentId in iteration['summary']])\n",
    "            rougeScores = RougeEvaluator.getRougeScores(text, refSumFolderPath.format(topicId))\n",
    "            print('\\titeration {} in session {}/{}'.format(iterationIdx, sessionIdx+1, numSessions))\n",
    "            #print(rougeScores)\n",
    "            iteration['rouge'][1] = rougeScores\n",
    "\n",
    "writeToJsonFile(data, resultsFixedFilePath)"
   ]
  },
  {
   "cell_type": "code",
   "execution_count": null,
   "metadata": {},
   "outputs": [],
   "source": []
  }
 ],
 "metadata": {
  "kernelspec": {
   "display_name": "Python 3",
   "language": "python",
   "name": "python3"
  },
  "language_info": {
   "codemirror_mode": {
    "name": "ipython",
    "version": 3
   },
   "file_extension": ".py",
   "mimetype": "text/x-python",
   "name": "python",
   "nbconvert_exporter": "python",
   "pygments_lexer": "ipython3",
   "version": "3.7.5"
  }
 },
 "nbformat": 4,
 "nbformat_minor": 2
}
